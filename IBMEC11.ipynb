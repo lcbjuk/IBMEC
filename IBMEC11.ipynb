{
  "nbformat": 4,
  "nbformat_minor": 0,
  "metadata": {
    "colab": {
      "name": "IBMEC11.ipynb",
      "provenance": [],
      "authorship_tag": "ABX9TyMC2LIFGlLaVJ6b6kHU/qTb",
      "include_colab_link": true
    },
    "kernelspec": {
      "name": "python3",
      "display_name": "Python 3"
    }
  },
  "cells": [
    {
      "cell_type": "markdown",
      "metadata": {
        "id": "view-in-github",
        "colab_type": "text"
      },
      "source": [
        "<a href=\"https://colab.research.google.com/github/lcbjuk/IBMEC/blob/master/IBMEC11.ipynb\" target=\"_parent\"><img src=\"https://colab.research.google.com/assets/colab-badge.svg\" alt=\"Open In Colab\"/></a>"
      ]
    },
    {
      "cell_type": "code",
      "metadata": {
        "id": "lpJpjxK60_XP",
        "colab_type": "code",
        "colab": {}
      },
      "source": [
        "from google.colab import drive\n",
        "#drive.mount('/content/drive')"
      ],
      "execution_count": 0,
      "outputs": []
    },
    {
      "cell_type": "markdown",
      "metadata": {
        "id": "SUkFzgOw1Fj3",
        "colab_type": "text"
      },
      "source": [
        "**Redes Neurais**"
      ]
    },
    {
      "cell_type": "code",
      "metadata": {
        "id": "o0IlYzbV1HkS",
        "colab_type": "code",
        "outputId": "78ddddac-e4fd-41b4-9407-691565e8c2c7",
        "colab": {
          "base_uri": "https://localhost:8080/",
          "height": 276
        }
      },
      "source": [
        "\n",
        "\n",
        "import pandas as pd\n",
        "\n",
        "treino = pd.read_csv('https://raw.githubusercontent.com/lcbjuk/ML/master/dados/volei%20-%20ok.csv')\n",
        "teste  = pd.read_csv('https://raw.githubusercontent.com/lcbjuk/ML/master/dados/volei%20-%20prd.csv')\n",
        "print(teste)\n",
        "\n",
        "#4 | 3 | 2 | 1\n",
        "\n",
        "import tensorflow\n",
        "from tensorflow import keras\n",
        "\n",
        "nn = keras.Sequential([\n",
        "      keras.layers.Input(len(treino.columns)-1),\n",
        "      keras.layers.Dense(3, activation='relu'),\n",
        "      keras.layers.Dense(2, activation='relu'),\n",
        "      keras.layers.Dense(1, activation='sigmoid')\n",
        "])\n",
        "\n",
        "nn.compile(optimizer='adam' , loss='binary_crossentropy')\n",
        "\n",
        "nn.fit(treino[['previsao',  'temperatura',  'umidade',  'vento']] , treino['jogar'])\n",
        "previsoes = nn.predict(teste)\n",
        "previsoes"
      ],
      "execution_count": 0,
      "outputs": [
        {
          "output_type": "stream",
          "text": [
            "   previsao  temperatura  umidade  vento\n",
            "0         2            1        1      2\n",
            "1         1            1        1      2\n",
            "2         1            1        1      1\n",
            "3         2            1        1      2\n",
            "4         3            2        1      2\n",
            "5         3            3        2      2\n",
            "Train on 14 samples\n",
            "14/14 [==============================] - 0s 13ms/sample - loss: 1.0851\n"
          ],
          "name": "stdout"
        },
        {
          "output_type": "execute_result",
          "data": {
            "text/plain": [
              "array([[0.23904428],\n",
              "       [0.22593947],\n",
              "       [0.34494698],\n",
              "       [0.23904428],\n",
              "       [0.1684216 ],\n",
              "       [0.15128145]], dtype=float32)"
            ]
          },
          "metadata": {
            "tags": []
          },
          "execution_count": 6
        }
      ]
    },
    {
      "cell_type": "code",
      "metadata": {
        "id": "BG6XP3Nk1wiC",
        "colab_type": "code",
        "outputId": "33e60874-e5d3-4c63-bb10-596b262f6b3f",
        "colab": {
          "base_uri": "https://localhost:8080/",
          "height": 121
        }
      },
      "source": [
        "\n",
        "limiar = 0.22\n",
        "def ativacao(v):\n",
        "  if(v > limiar):\n",
        "    return 1\n",
        "  else:\n",
        "    return 0\n",
        "\n",
        "for previsao in previsoes:\n",
        "  print(ativacao(previsao))\n"
      ],
      "execution_count": 0,
      "outputs": [
        {
          "output_type": "stream",
          "text": [
            "1\n",
            "1\n",
            "1\n",
            "1\n",
            "0\n",
            "0\n"
          ],
          "name": "stdout"
        }
      ]
    },
    {
      "cell_type": "markdown",
      "metadata": {
        "id": "5gE7rgae1Hqt",
        "colab_type": "text"
      },
      "source": [
        "**Exercicio - Redes Neurais**"
      ]
    },
    {
      "cell_type": "code",
      "metadata": {
        "id": "0R4iJ8eH1Hwn",
        "colab_type": "code",
        "outputId": "eb064d42-b192-475f-85c1-b87cde87a25e",
        "colab": {
          "base_uri": "https://localhost:8080/",
          "height": 654
        }
      },
      "source": [
        " \n",
        "\n",
        "import pandas as pd\n",
        "import tensorflow \n",
        "from tensorflow import keras\n",
        "\n",
        "\n",
        "train = pd.read_csv('https://raw.githubusercontent.com/lcbjuk/ML/master/dados/RiscoCredito%20-%20okk.csv')\n",
        "valid  = pd.read_csv('https://raw.githubusercontent.com/lcbjuk/ML/master/dados/RiscoCredito%20-%20prever.csv')\n",
        "#print(train)\n",
        "print(valid)\n",
        " \n",
        "nn = keras.Sequential([ \n",
        "    keras.layers.Input(len(train.columns)-1),\n",
        "    keras.layers.Dense(3, activation='relu' ), \n",
        "    keras.layers.Dense(2, activation='relu'), \n",
        "    keras.layers.Dense(2, activation='relu'), \n",
        "    keras.layers.Dense(1, activation='sigmoid')\n",
        "])\n",
        "\n",
        "adam = keras.optimizers.Adam(lr=0.002)\n",
        "nn.compile(optimizer='adam', loss='binary_crossentropy',metrics=['accuracy'])\n",
        "nn.fit(train[['Genero','GrauEscolaridade','Profissao','Renda']],train['Inadimplente'], batch_size=20, epochs=4,validation_split=0.20)\n",
        "previsao = nn.predict(valid[['Genero','GrauEscolaridade','Profissao','Renda']])\n",
        "print(previsao)\n"
      ],
      "execution_count": 0,
      "outputs": [
        {
          "output_type": "display_data",
          "data": {
            "text/html": [
              "<p style=\"color: red;\">\n",
              "The default version of TensorFlow in Colab will switch to TensorFlow 2.x on the 27th of March, 2020.<br>\n",
              "We recommend you <a href=\"https://www.tensorflow.org/guide/migrate\" target=\"_blank\">upgrade</a> now\n",
              "or ensure your notebook will continue to use TensorFlow 1.x via the <code>%tensorflow_version 1.x</code> magic:\n",
              "<a href=\"https://colab.research.google.com/notebooks/tensorflow_version.ipynb\" target=\"_blank\">more info</a>.</p>\n"
            ],
            "text/plain": [
              "<IPython.core.display.HTML object>"
            ]
          },
          "metadata": {
            "tags": []
          }
        },
        {
          "output_type": "stream",
          "text": [
            "   Genero  GrauEscolaridade  Profissao  Renda\n",
            "0       1                 4          1   1.40\n",
            "1       2                 7          9   2.60\n",
            "2       1                 7          9   5.80\n",
            "3       1                 7          9   4.70\n",
            "4       1                 7          9   3.90\n",
            "5       1                 8          9   3.25\n",
            "6       1                 8          8   7.20\n",
            "7       2                 4          3   1.25\n",
            "WARNING:tensorflow:From /tensorflow-1.15.0/python3.6/tensorflow_core/python/ops/resource_variable_ops.py:1630: calling BaseResourceVariable.__init__ (from tensorflow.python.ops.resource_variable_ops) with constraint is deprecated and will be removed in a future version.\n",
            "Instructions for updating:\n",
            "If using Keras pass *_constraint arguments to layers.\n",
            "WARNING:tensorflow:From /tensorflow-1.15.0/python3.6/tensorflow_core/python/ops/nn_impl.py:183: where (from tensorflow.python.ops.array_ops) is deprecated and will be removed in a future version.\n",
            "Instructions for updating:\n",
            "Use tf.where in 2.0, which has the same broadcast rule as np.where\n",
            "Train on 80 samples, validate on 20 samples\n",
            "Epoch 1/4\n",
            "80/80 [==============================] - 0s 4ms/sample - loss: 0.6405 - acc: 0.4875 - val_loss: 0.6558 - val_acc: 0.7000\n",
            "Epoch 2/4\n",
            "80/80 [==============================] - 0s 130us/sample - loss: 0.6380 - acc: 0.6750 - val_loss: 0.6527 - val_acc: 0.7000\n",
            "Epoch 3/4\n",
            "80/80 [==============================] - 0s 135us/sample - loss: 0.6344 - acc: 0.7000 - val_loss: 0.6500 - val_acc: 0.7000\n",
            "Epoch 4/4\n",
            "80/80 [==============================] - 0s 127us/sample - loss: 0.6297 - acc: 0.7250 - val_loss: 0.6475 - val_acc: 0.7000\n",
            "[[0.5034769 ]\n",
            " [0.05442756]\n",
            " [0.4420102 ]\n",
            " [0.17899129]\n",
            " [0.07860053]\n",
            " [0.02545819]\n",
            " [0.5034769 ]\n",
            " [0.5034769 ]]\n"
          ],
          "name": "stdout"
        }
      ]
    },
    {
      "cell_type": "code",
      "metadata": {
        "id": "S0R3R2yD1So9",
        "colab_type": "code",
        "outputId": "b046a3b3-c62a-4ae0-a966-9a501c09e51e",
        "colab": {
          "base_uri": "https://localhost:8080/",
          "height": 35
        }
      },
      "source": [
        "limiar = 0.54\n",
        "def ativacao(prb):\n",
        "  if(prb>=limiar):\n",
        "    return 0\n",
        "  else:\n",
        "    return 1\n",
        "\n",
        "p = list()  \n",
        "for prev in previsao:\n",
        "  p.append(ativacao(prev))\n",
        "\n",
        "print(p)"
      ],
      "execution_count": 0,
      "outputs": [
        {
          "output_type": "stream",
          "text": [
            "[0, 1, 1, 1, 1, 1, 1, 0]\n"
          ],
          "name": "stdout"
        }
      ]
    },
    {
      "cell_type": "code",
      "metadata": {
        "id": "WI-3GYEDDjAI",
        "colab_type": "code",
        "outputId": "4d07954d-2984-4022-820e-cba809f6dd00",
        "colab": {
          "base_uri": "https://localhost:8080/",
          "height": 288
        }
      },
      "source": [
        "valid"
      ],
      "execution_count": 0,
      "outputs": [
        {
          "output_type": "execute_result",
          "data": {
            "text/html": [
              "<div>\n",
              "<style scoped>\n",
              "    .dataframe tbody tr th:only-of-type {\n",
              "        vertical-align: middle;\n",
              "    }\n",
              "\n",
              "    .dataframe tbody tr th {\n",
              "        vertical-align: top;\n",
              "    }\n",
              "\n",
              "    .dataframe thead th {\n",
              "        text-align: right;\n",
              "    }\n",
              "</style>\n",
              "<table border=\"1\" class=\"dataframe\">\n",
              "  <thead>\n",
              "    <tr style=\"text-align: right;\">\n",
              "      <th></th>\n",
              "      <th>Genero</th>\n",
              "      <th>GrauEscolaridade</th>\n",
              "      <th>Profissao</th>\n",
              "      <th>Renda</th>\n",
              "    </tr>\n",
              "  </thead>\n",
              "  <tbody>\n",
              "    <tr>\n",
              "      <th>0</th>\n",
              "      <td>1</td>\n",
              "      <td>4</td>\n",
              "      <td>1</td>\n",
              "      <td>1.40</td>\n",
              "    </tr>\n",
              "    <tr>\n",
              "      <th>1</th>\n",
              "      <td>2</td>\n",
              "      <td>7</td>\n",
              "      <td>9</td>\n",
              "      <td>2.60</td>\n",
              "    </tr>\n",
              "    <tr>\n",
              "      <th>2</th>\n",
              "      <td>1</td>\n",
              "      <td>7</td>\n",
              "      <td>9</td>\n",
              "      <td>5.80</td>\n",
              "    </tr>\n",
              "    <tr>\n",
              "      <th>3</th>\n",
              "      <td>1</td>\n",
              "      <td>7</td>\n",
              "      <td>9</td>\n",
              "      <td>4.70</td>\n",
              "    </tr>\n",
              "    <tr>\n",
              "      <th>4</th>\n",
              "      <td>1</td>\n",
              "      <td>7</td>\n",
              "      <td>9</td>\n",
              "      <td>3.90</td>\n",
              "    </tr>\n",
              "    <tr>\n",
              "      <th>5</th>\n",
              "      <td>1</td>\n",
              "      <td>8</td>\n",
              "      <td>9</td>\n",
              "      <td>3.25</td>\n",
              "    </tr>\n",
              "    <tr>\n",
              "      <th>6</th>\n",
              "      <td>1</td>\n",
              "      <td>8</td>\n",
              "      <td>8</td>\n",
              "      <td>7.20</td>\n",
              "    </tr>\n",
              "    <tr>\n",
              "      <th>7</th>\n",
              "      <td>2</td>\n",
              "      <td>4</td>\n",
              "      <td>3</td>\n",
              "      <td>1.25</td>\n",
              "    </tr>\n",
              "  </tbody>\n",
              "</table>\n",
              "</div>"
            ],
            "text/plain": [
              "   Genero  GrauEscolaridade  Profissao  Renda\n",
              "0       1                 4          1   1.40\n",
              "1       2                 7          9   2.60\n",
              "2       1                 7          9   5.80\n",
              "3       1                 7          9   4.70\n",
              "4       1                 7          9   3.90\n",
              "5       1                 8          9   3.25\n",
              "6       1                 8          8   7.20\n",
              "7       2                 4          3   1.25"
            ]
          },
          "metadata": {
            "tags": []
          },
          "execution_count": 3
        }
      ]
    }
  ]
}