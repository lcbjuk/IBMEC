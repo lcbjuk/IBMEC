{
  "nbformat": 4,
  "nbformat_minor": 0,
  "metadata": {
    "colab": {
      "name": "IBMEC_Extras1.ipynb",
      "provenance": [],
      "authorship_tag": "ABX9TyPSELlYqMaq5eGhco06T5XZ",
      "include_colab_link": true
    },
    "kernelspec": {
      "name": "python3",
      "display_name": "Python 3"
    }
  },
  "cells": [
    {
      "cell_type": "markdown",
      "metadata": {
        "id": "view-in-github",
        "colab_type": "text"
      },
      "source": [
        "<a href=\"https://colab.research.google.com/github/lcbjuk/IBMEC/blob/master/IBMEC_Extras1.ipynb\" target=\"_parent\"><img src=\"https://colab.research.google.com/assets/colab-badge.svg\" alt=\"Open In Colab\"/></a>"
      ]
    },
    {
      "cell_type": "markdown",
      "metadata": {
        "id": "Sm9kJSclm_eg",
        "colab_type": "text"
      },
      "source": [
        " \n",
        "**Lista Extra Zero**\n"
      ]
    },
    {
      "cell_type": "markdown",
      "metadata": {
        "id": "8o9rns-8hzrG",
        "colab_type": "text"
      },
      "source": [
        "1) Calcule a nota final, sabendo que AP1 e AP2 tem peso 40% e AP3 tem peso 20%\n"
      ]
    },
    {
      "cell_type": "code",
      "metadata": {
        "id": "vRFlKdEunNq4",
        "colab_type": "code",
        "outputId": "dcf2a5b9-c936-440d-d30c-aa5773382f01",
        "colab": {
          "base_uri": "https://localhost:8080/",
          "height": 34
        }
      },
      "source": [
        "def nota_final(ap1,ap2,ap3):\n",
        "  return ap1*0.4 + ap2*0.4 + ap3 *0.2\n",
        "\n",
        "nota_final(10,9,8)"
      ],
      "execution_count": 0,
      "outputs": [
        {
          "output_type": "execute_result",
          "data": {
            "text/plain": [
              "9.2"
            ]
          },
          "metadata": {
            "tags": []
          },
          "execution_count": 7
        }
      ]
    },
    {
      "cell_type": "markdown",
      "metadata": {
        "id": "Maq40x9ciApI",
        "colab_type": "text"
      },
      "source": [
        "2) Calcule a nota como conceito, com sendo A (maior que 9), B (entre 7 e 9), D (entre 5 e 7), F (abaixo disto)"
      ]
    },
    {
      "cell_type": "code",
      "metadata": {
        "id": "zac3zJY5nNsx",
        "colab_type": "code",
        "outputId": "0ee61680-2ec3-4b65-8e40-e561f535794f",
        "colab": {
          "base_uri": "https://localhost:8080/",
          "height": 34
        }
      },
      "source": [
        "def nota_conceito(nota):\n",
        "  if(nota>=9):\n",
        "    conceito = 'A'\n",
        "  elif(nota<9 and nota>=7):\n",
        "    conceito = 'B'\n",
        "  elif(nota<7 and nota>=5):\n",
        "    conceito = 'D'\n",
        "  else:\n",
        "    conceito = 'D'\n",
        "  return conceito\n",
        "\n",
        "nc = nota_conceito(9.5)\n",
        "nc\n"
      ],
      "execution_count": 0,
      "outputs": [
        {
          "output_type": "execute_result",
          "data": {
            "text/plain": [
              "'A'"
            ]
          },
          "metadata": {
            "tags": []
          },
          "execution_count": 8
        }
      ]
    },
    {
      "cell_type": "markdown",
      "metadata": {
        "id": "xF4h42KFiG7t",
        "colab_type": "text"
      },
      "source": [
        "3) Calcule a maior nota da turma com as seguintes notas: 7, 6, 9, 9, 8, 8, 10, 5, 6 e 7"
      ]
    },
    {
      "cell_type": "code",
      "metadata": {
        "id": "vY64abjxnNuy",
        "colab_type": "code",
        "outputId": "5d949fc3-7379-4d08-8c0b-23a7b6545593",
        "colab": {
          "base_uri": "https://localhost:8080/",
          "height": 34
        }
      },
      "source": [
        "def maior_nota(notas):\n",
        "  maior = 0\n",
        "  for i in range(0,len(notas),1):\n",
        "    if(notas[i] > maior):\n",
        "      maior = notas[i]\n",
        "  return maior\n",
        "\n",
        "notas = [7,6,9,9,8,8,10,5,6,7]\n",
        "m = maior_nota(notas)\n",
        "m"
      ],
      "execution_count": 0,
      "outputs": [
        {
          "output_type": "execute_result",
          "data": {
            "text/plain": [
              "10"
            ]
          },
          "metadata": {
            "tags": []
          },
          "execution_count": 9
        }
      ]
    },
    {
      "cell_type": "markdown",
      "metadata": {
        "id": "JbXDv8VHiKCj",
        "colab_type": "text"
      },
      "source": [
        "4) Calcular o imposto de renda devido com base no salário anual e regra da Receita Federal"
      ]
    },
    {
      "cell_type": "code",
      "metadata": {
        "id": "VmNj96VbnNw1",
        "colab_type": "code",
        "outputId": "2b8e7ad0-0c77-4594-a6c8-b8a7c1615074",
        "colab": {
          "base_uri": "https://localhost:8080/",
          "height": 68
        }
      },
      "source": [
        "# arredondei alguns numeros do enunciado original...\n",
        "def IRPF(salario):\n",
        "  if (salario <= 1500):\n",
        "    imposto = 0\n",
        "  elif(salario>1500 and salario<= 2246):\n",
        "    imposto = salario * 0.075 - 112\n",
        "  elif(salario>2246 and salario<= 2295):\n",
        "    imposto = salario * 0.15 - 280\n",
        "  elif(salario>2295 and salario<= 3745):\n",
        "    imposto = salario * 0.225 - 505\n",
        "  else:\n",
        "    imposto = salario * 0.275 - 692\n",
        "  return imposto\n",
        "\n",
        "print(IRPF(1050))\n",
        "print(IRPF(3500))\n",
        "print(IRPF(9000))"
      ],
      "execution_count": 0,
      "outputs": [
        {
          "output_type": "stream",
          "text": [
            "0\n",
            "282.5\n",
            "1783.0\n"
          ],
          "name": "stdout"
        }
      ]
    },
    {
      "cell_type": "markdown",
      "metadata": {
        "id": "kdgcCFKGiMVE",
        "colab_type": "text"
      },
      "source": [
        "**Lita Extra 1**"
      ]
    },
    {
      "cell_type": "markdown",
      "metadata": {
        "id": "hB2-Nv8viPRm",
        "colab_type": "text"
      },
      "source": [
        "1)​ Faça um Programa que peça a temperatura em graus Farenheit, transforme e mostre a temperatura em graus\n",
        "Celsius.\n",
        "\n",
        "C = (5 * (F-32) / 9)."
      ]
    },
    {
      "cell_type": "code",
      "metadata": {
        "id": "b1W4iyBqiWKf",
        "colab_type": "code",
        "colab": {
          "base_uri": "https://localhost:8080/",
          "height": 34
        },
        "outputId": "b6bd749d-29e3-4e95-fd2a-7e9adfb62b80"
      },
      "source": [
        "def FtoC(f):\n",
        "  c = (5 * (f-32) / 9)\n",
        "  return c\n",
        "\n",
        "cemFemC = FtoC(100)\n",
        "print(cemFemC)"
      ],
      "execution_count": 1,
      "outputs": [
        {
          "output_type": "stream",
          "text": [
            "37.77777777777778\n"
          ],
          "name": "stdout"
        }
      ]
    },
    {
      "cell_type": "markdown",
      "metadata": {
        "id": "LvSEWfvKizpl",
        "colab_type": "text"
      },
      "source": [
        "2)​ Tendo como dado de entrada a altura (h) de uma pessoa, construa um algoritmo que calcule seu peso ideal, utilizando as seguintes fórmulas:\n",
        "\n",
        "a. Para homens: (72.7*h) - 58\n",
        "\n",
        "b. Para mulheres: (62.1*h) - 44.7"
      ]
    },
    {
      "cell_type": "code",
      "metadata": {
        "id": "JQsd6rdCi1CV",
        "colab_type": "code",
        "colab": {
          "base_uri": "https://localhost:8080/",
          "height": 51
        },
        "outputId": "36095a15-c589-47ef-bd40-9630be071f4c"
      },
      "source": [
        "def peso_ideal(altura, genero):\n",
        "  if (genero == 'M'):\n",
        "    peso = (72.7*altura) - 58\n",
        "  else:\n",
        "    peso = (62.1*altura) - 44.7\n",
        "  return peso\n",
        "\n",
        "joao = peso_ideal(1.65,'M')\n",
        "print(joao)\n",
        "maria =peso_ideal(1.65,'F')\n",
        "print(maria)"
      ],
      "execution_count": 3,
      "outputs": [
        {
          "output_type": "stream",
          "text": [
            "61.955\n",
            "57.765\n"
          ],
          "name": "stdout"
        }
      ]
    },
    {
      "cell_type": "markdown",
      "metadata": {
        "id": "igYVgck3j3dJ",
        "colab_type": "text"
      },
      "source": [
        "3)​ Faça um Programa que, para uma lista de salários de seus funcionários, calcule e mostre o total do seu\n",
        "salário no referido mês, sabendo-se que são descontados 11% para o Imposto de Renda, 8% para o INSS e 5% sindicato, faça um programa que nos dê:\n",
        "\n",
        "a. salário bruto.\n",
        "\n",
        "b. quanto pagou ao INSS.\n",
        "\n",
        "c. quanto pagou ao sindicato.\n",
        "\n",
        "d. o salário líquido.\n",
        "\n",
        "e. calcule os descontos e o salário líquido, conforme a tabela abaixo:\n",
        "\n",
        "f. + Salário Bruto : R$ \n",
        "\n",
        "g. - IR(11 %) : R$\n",
        "\n",
        "h. - INSS (8%) : R$\n",
        "\n",
        "i. - Sindicato ( 5%) : R$\n",
        "\n",
        "= Salário Líquido: R$\n",
        "\n",
        "**Salários (R$): [1050, 2000, 3500, 5000, 7000, 10000, 20000]**"
      ]
    },
    {
      "cell_type": "code",
      "metadata": {
        "id": "3B9fr6wWkkMq",
        "colab_type": "code",
        "colab": {
          "base_uri": "https://localhost:8080/",
          "height": 136
        },
        "outputId": "bc0ca65a-3be9-4017-fae2-d57e00e1d3e6"
      },
      "source": [
        "def salarios_liquidos():\n",
        "  sal = [1050, 2000, 3500, 5000, 7000, 10000, 20000]\n",
        "  for i in range (0,7,1):\n",
        "    ir = sal[i] * 0.11\n",
        "    inss = sal[i] * 0.08\n",
        "    sind = sal[i] * 0.05\n",
        "    liq = sal[i] - ir - inss - sind\n",
        "    print('BRUTO: ', sal[i] , 'IR: ', ir, 'INSS: ', inss, 'Sind.: ', sind, 'LIQUIDO', liq)\n",
        "\n",
        "salarios_liquidos()"
      ],
      "execution_count": 6,
      "outputs": [
        {
          "output_type": "stream",
          "text": [
            "BRUTO:  1050 IR:  115.5 INSS:  84.0 Sind.:  52.5 LIQUIDO 798.0\n",
            "BRUTO:  2000 IR:  220.0 INSS:  160.0 Sind.:  100.0 LIQUIDO 1520.0\n",
            "BRUTO:  3500 IR:  385.0 INSS:  280.0 Sind.:  175.0 LIQUIDO 2660.0\n",
            "BRUTO:  5000 IR:  550.0 INSS:  400.0 Sind.:  250.0 LIQUIDO 3800.0\n",
            "BRUTO:  7000 IR:  770.0 INSS:  560.0 Sind.:  350.0 LIQUIDO 5320.0\n",
            "BRUTO:  10000 IR:  1100.0 INSS:  800.0 Sind.:  500.0 LIQUIDO 7600.0\n",
            "BRUTO:  20000 IR:  2200.0 INSS:  1600.0 Sind.:  1000.0 LIQUIDO 15200.0\n"
          ],
          "name": "stdout"
        }
      ]
    }
  ]
}