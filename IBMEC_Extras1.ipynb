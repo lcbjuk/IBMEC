{
  "nbformat": 4,
  "nbformat_minor": 0,
  "metadata": {
    "colab": {
      "name": "IBMEC_Extras1.ipynb",
      "provenance": [],
      "authorship_tag": "ABX9TyPTNphGeBI2FH5v2HzPBDwq",
      "include_colab_link": true
    },
    "kernelspec": {
      "name": "python3",
      "display_name": "Python 3"
    }
  },
  "cells": [
    {
      "cell_type": "markdown",
      "metadata": {
        "id": "view-in-github",
        "colab_type": "text"
      },
      "source": [
        "<a href=\"https://colab.research.google.com/github/lcbjuk/IBMEC/blob/master/IBMEC_Extras1.ipynb\" target=\"_parent\"><img src=\"https://colab.research.google.com/assets/colab-badge.svg\" alt=\"Open In Colab\"/></a>"
      ]
    },
    {
      "cell_type": "markdown",
      "metadata": {
        "id": "Sm9kJSclm_eg",
        "colab_type": "text"
      },
      "source": [
        " \n",
        "**Lista Extra Zero**\n"
      ]
    },
    {
      "cell_type": "markdown",
      "metadata": {
        "id": "8o9rns-8hzrG",
        "colab_type": "text"
      },
      "source": [
        "1) Calcule a nota final, sabendo que AP1 e AP2 tem peso 40% e AP3 tem peso 20%\n"
      ]
    },
    {
      "cell_type": "code",
      "metadata": {
        "id": "vRFlKdEunNq4",
        "colab_type": "code",
        "outputId": "dcf2a5b9-c936-440d-d30c-aa5773382f01",
        "colab": {
          "base_uri": "https://localhost:8080/",
          "height": 34
        }
      },
      "source": [
        "def nota_final(ap1,ap2,ap3):\n",
        "  return ap1*0.4 + ap2*0.4 + ap3 *0.2\n",
        "\n",
        "nota_final(10,9,8)"
      ],
      "execution_count": 0,
      "outputs": [
        {
          "output_type": "execute_result",
          "data": {
            "text/plain": [
              "9.2"
            ]
          },
          "metadata": {
            "tags": []
          },
          "execution_count": 7
        }
      ]
    },
    {
      "cell_type": "markdown",
      "metadata": {
        "id": "Maq40x9ciApI",
        "colab_type": "text"
      },
      "source": [
        "2) Calcule a nota como conceito, com sendo A (maior que 9), B (entre 7 e 9), D (entre 5 e 7), F (abaixo disto)"
      ]
    },
    {
      "cell_type": "code",
      "metadata": {
        "id": "zac3zJY5nNsx",
        "colab_type": "code",
        "outputId": "0ee61680-2ec3-4b65-8e40-e561f535794f",
        "colab": {
          "base_uri": "https://localhost:8080/",
          "height": 34
        }
      },
      "source": [
        "def nota_conceito(nota):\n",
        "  if(nota>=9):\n",
        "    conceito = 'A'\n",
        "  elif(nota<9 and nota>=7):\n",
        "    conceito = 'B'\n",
        "  elif(nota<7 and nota>=5):\n",
        "    conceito = 'D'\n",
        "  else:\n",
        "    conceito = 'D'\n",
        "  return conceito\n",
        "\n",
        "nc = nota_conceito(9.5)\n",
        "nc\n"
      ],
      "execution_count": 0,
      "outputs": [
        {
          "output_type": "execute_result",
          "data": {
            "text/plain": [
              "'A'"
            ]
          },
          "metadata": {
            "tags": []
          },
          "execution_count": 8
        }
      ]
    },
    {
      "cell_type": "markdown",
      "metadata": {
        "id": "xF4h42KFiG7t",
        "colab_type": "text"
      },
      "source": [
        "3) Calcule a maior nota da turma com as seguintes notas: 7, 6, 9, 9, 8, 8, 10, 5, 6 e 7"
      ]
    },
    {
      "cell_type": "code",
      "metadata": {
        "id": "vY64abjxnNuy",
        "colab_type": "code",
        "outputId": "5d949fc3-7379-4d08-8c0b-23a7b6545593",
        "colab": {
          "base_uri": "https://localhost:8080/",
          "height": 34
        }
      },
      "source": [
        "def maior_nota(notas):\n",
        "  maior = 0\n",
        "  for i in range(0,len(notas),1):\n",
        "    if(notas[i] > maior):\n",
        "      maior = notas[i]\n",
        "  return maior\n",
        "\n",
        "notas = [7,6,9,9,8,8,10,5,6,7]\n",
        "m = maior_nota(notas)\n",
        "m"
      ],
      "execution_count": 0,
      "outputs": [
        {
          "output_type": "execute_result",
          "data": {
            "text/plain": [
              "10"
            ]
          },
          "metadata": {
            "tags": []
          },
          "execution_count": 9
        }
      ]
    },
    {
      "cell_type": "markdown",
      "metadata": {
        "id": "JbXDv8VHiKCj",
        "colab_type": "text"
      },
      "source": [
        "4) Calcular o imposto de renda devido com base no salário anual e regra da Receita Federal"
      ]
    },
    {
      "cell_type": "code",
      "metadata": {
        "id": "VmNj96VbnNw1",
        "colab_type": "code",
        "outputId": "2b8e7ad0-0c77-4594-a6c8-b8a7c1615074",
        "colab": {
          "base_uri": "https://localhost:8080/",
          "height": 68
        }
      },
      "source": [
        "# arredondei alguns numeros do enunciado original...\n",
        "def IRPF(salario):\n",
        "  if (salario <= 1500):\n",
        "    imposto = 0\n",
        "  elif(salario>1500 and salario<= 2246):\n",
        "    imposto = salario * 0.075 - 112\n",
        "  elif(salario>2246 and salario<= 2295):\n",
        "    imposto = salario * 0.15 - 280\n",
        "  elif(salario>2295 and salario<= 3745):\n",
        "    imposto = salario * 0.225 - 505\n",
        "  else:\n",
        "    imposto = salario * 0.275 - 692\n",
        "  return imposto\n",
        "\n",
        "print(IRPF(1050))\n",
        "print(IRPF(3500))\n",
        "print(IRPF(9000))"
      ],
      "execution_count": 0,
      "outputs": [
        {
          "output_type": "stream",
          "text": [
            "0\n",
            "282.5\n",
            "1783.0\n"
          ],
          "name": "stdout"
        }
      ]
    },
    {
      "cell_type": "markdown",
      "metadata": {
        "id": "kdgcCFKGiMVE",
        "colab_type": "text"
      },
      "source": [
        "**Lita Extra 1**"
      ]
    },
    {
      "cell_type": "markdown",
      "metadata": {
        "id": "hB2-Nv8viPRm",
        "colab_type": "text"
      },
      "source": [
        "1)​ Faça um Programa que peça a temperatura em graus Farenheit, transforme e mostre a temperatura em graus\n",
        "Celsius.\n",
        "\n",
        "C = (5 * (F-32) / 9)."
      ]
    },
    {
      "cell_type": "code",
      "metadata": {
        "id": "b1W4iyBqiWKf",
        "colab_type": "code",
        "outputId": "b6bd749d-29e3-4e95-fd2a-7e9adfb62b80",
        "colab": {
          "base_uri": "https://localhost:8080/",
          "height": 34
        }
      },
      "source": [
        "def FtoC(f):\n",
        "  c = (5 * (f-32) / 9)\n",
        "  return c\n",
        "\n",
        "cemFemC = FtoC(100)\n",
        "print(cemFemC)"
      ],
      "execution_count": 0,
      "outputs": [
        {
          "output_type": "stream",
          "text": [
            "37.77777777777778\n"
          ],
          "name": "stdout"
        }
      ]
    },
    {
      "cell_type": "markdown",
      "metadata": {
        "id": "LvSEWfvKizpl",
        "colab_type": "text"
      },
      "source": [
        "2)​ Tendo como dado de entrada a altura (h) de uma pessoa, construa um algoritmo que calcule seu peso ideal, utilizando as seguintes fórmulas:\n",
        "\n",
        "a. Para homens: (72.7*h) - 58\n",
        "\n",
        "b. Para mulheres: (62.1*h) - 44.7"
      ]
    },
    {
      "cell_type": "code",
      "metadata": {
        "id": "JQsd6rdCi1CV",
        "colab_type": "code",
        "outputId": "36095a15-c589-47ef-bd40-9630be071f4c",
        "colab": {
          "base_uri": "https://localhost:8080/",
          "height": 51
        }
      },
      "source": [
        "def peso_ideal(altura, genero):\n",
        "  if (genero == 'M'):\n",
        "    peso = (72.7*altura) - 58\n",
        "  else:\n",
        "    peso = (62.1*altura) - 44.7\n",
        "  return peso\n",
        "\n",
        "joao = peso_ideal(1.65,'M')\n",
        "print(joao)\n",
        "maria =peso_ideal(1.65,'F')\n",
        "print(maria)"
      ],
      "execution_count": 0,
      "outputs": [
        {
          "output_type": "stream",
          "text": [
            "61.955\n",
            "57.765\n"
          ],
          "name": "stdout"
        }
      ]
    },
    {
      "cell_type": "markdown",
      "metadata": {
        "id": "igYVgck3j3dJ",
        "colab_type": "text"
      },
      "source": [
        "3)​ Faça um Programa que, para uma lista de salários de seus funcionários, calcule e mostre o total do seu\n",
        "salário no referido mês, sabendo-se que são descontados 11% para o Imposto de Renda, 8% para o INSS e 5% sindicato, faça um programa que nos dê:\n",
        "\n",
        "a. salário bruto.\n",
        "\n",
        "b. quanto pagou ao INSS.\n",
        "\n",
        "c. quanto pagou ao sindicato.\n",
        "\n",
        "d. o salário líquido.\n",
        "\n",
        "e. calcule os descontos e o salário líquido, conforme a tabela abaixo:\n",
        "\n",
        "f. + Salário Bruto : R$ \n",
        "\n",
        "g. - IR(11 %) : R$\n",
        "\n",
        "h. - INSS (8%) : R$\n",
        "\n",
        "i. - Sindicato ( 5%) : R$\n",
        "\n",
        "= Salário Líquido: R$\n",
        "\n",
        "**Salários (R$): [1050, 2000, 3500, 5000, 7000, 10000, 20000]**"
      ]
    },
    {
      "cell_type": "code",
      "metadata": {
        "id": "3B9fr6wWkkMq",
        "colab_type": "code",
        "outputId": "bc0ca65a-3be9-4017-fae2-d57e00e1d3e6",
        "colab": {
          "base_uri": "https://localhost:8080/",
          "height": 136
        }
      },
      "source": [
        "def salarios_liquidos():\n",
        "  sal = [1050, 2000, 3500, 5000, 7000, 10000, 20000]\n",
        "  for i in range (0,7,1):\n",
        "    ir = sal[i] * 0.11\n",
        "    inss = sal[i] * 0.08\n",
        "    sind = sal[i] * 0.05\n",
        "    liq = sal[i] - ir - inss - sind\n",
        "    print('BRUTO: ', sal[i] , 'IR: ', ir, 'INSS: ', inss, 'Sind.: ', sind, 'LIQUIDO', liq)\n",
        "\n",
        "salarios_liquidos()"
      ],
      "execution_count": 0,
      "outputs": [
        {
          "output_type": "stream",
          "text": [
            "BRUTO:  1050 IR:  115.5 INSS:  84.0 Sind.:  52.5 LIQUIDO 798.0\n",
            "BRUTO:  2000 IR:  220.0 INSS:  160.0 Sind.:  100.0 LIQUIDO 1520.0\n",
            "BRUTO:  3500 IR:  385.0 INSS:  280.0 Sind.:  175.0 LIQUIDO 2660.0\n",
            "BRUTO:  5000 IR:  550.0 INSS:  400.0 Sind.:  250.0 LIQUIDO 3800.0\n",
            "BRUTO:  7000 IR:  770.0 INSS:  560.0 Sind.:  350.0 LIQUIDO 5320.0\n",
            "BRUTO:  10000 IR:  1100.0 INSS:  800.0 Sind.:  500.0 LIQUIDO 7600.0\n",
            "BRUTO:  20000 IR:  2200.0 INSS:  1600.0 Sind.:  1000.0 LIQUIDO 15200.0\n"
          ],
          "name": "stdout"
        }
      ]
    },
    {
      "cell_type": "markdown",
      "metadata": {
        "id": "KeRxjHO0hUKz",
        "colab_type": "text"
      },
      "source": [
        "***Desafios***"
      ]
    },
    {
      "cell_type": "markdown",
      "metadata": {
        "id": "uHaeOvmAhWKr",
        "colab_type": "text"
      },
      "source": [
        "Desafio 1)​ Desenvolva um gerador de tabuada, capaz de gerar a tabuada de qualquer número inteiro entre 1 a 10. O usuário deve informar de qual numero ele deseja ver a tabuada. A saída deve ser conforme o exemplo abaixo:"
      ]
    },
    {
      "cell_type": "markdown",
      "metadata": {
        "id": "HL54QIqhhm11",
        "colab_type": "text"
      },
      "source": [
        "*A solucao para o enunciado seria uma laco/loop unico*"
      ]
    },
    {
      "cell_type": "code",
      "metadata": {
        "id": "j7PqfREGhm9K",
        "colab_type": "code",
        "outputId": "dd242ccc-9ab9-448a-d211-96fd7655f8c7",
        "colab": {
          "base_uri": "https://localhost:8080/",
          "height": 170
        }
      },
      "source": [
        "def tabuada_de(n):\n",
        "  for i in range(1,10,1):\n",
        "    print(n , ' x ' , i , ' = ', i*n)\n",
        "\n",
        "tabuada_de(5)"
      ],
      "execution_count": 0,
      "outputs": [
        {
          "output_type": "stream",
          "text": [
            "5  x  1  =  5\n",
            "5  x  2  =  10\n",
            "5  x  3  =  15\n",
            "5  x  4  =  20\n",
            "5  x  5  =  25\n",
            "5  x  6  =  30\n",
            "5  x  7  =  35\n",
            "5  x  8  =  40\n",
            "5  x  9  =  45\n"
          ],
          "name": "stdout"
        }
      ]
    },
    {
      "cell_type": "markdown",
      "metadata": {
        "id": "7_KYxIAEh28H",
        "colab_type": "text"
      },
      "source": [
        "*Uma variacao para o desafio seria calular todas tabuadas, o que demandaria um laco dentro de outro laco*"
      ]
    },
    {
      "cell_type": "code",
      "metadata": {
        "id": "VwVxQL0yh9cX",
        "colab_type": "code",
        "outputId": "5fc7c4e9-53dc-447b-8924-b78e54bf4a93",
        "colab": {
          "base_uri": "https://localhost:8080/",
          "height": 1000
        }
      },
      "source": [
        "def tabuada():\n",
        "  for i in range(1,10,1):\n",
        "    print('\\n Tabuada do ' , i)\n",
        "    for j in range(1,10,1):\n",
        "      print(i , ' x ' , j , ' = ', i*j)\n",
        "\n",
        "tabuada()"
      ],
      "execution_count": 0,
      "outputs": [
        {
          "output_type": "stream",
          "text": [
            "\n",
            " Tabuada do  1\n",
            "1  x  1  =  1\n",
            "1  x  2  =  2\n",
            "1  x  3  =  3\n",
            "1  x  4  =  4\n",
            "1  x  5  =  5\n",
            "1  x  6  =  6\n",
            "1  x  7  =  7\n",
            "1  x  8  =  8\n",
            "1  x  9  =  9\n",
            "\n",
            " Tabuada do  2\n",
            "2  x  1  =  2\n",
            "2  x  2  =  4\n",
            "2  x  3  =  6\n",
            "2  x  4  =  8\n",
            "2  x  5  =  10\n",
            "2  x  6  =  12\n",
            "2  x  7  =  14\n",
            "2  x  8  =  16\n",
            "2  x  9  =  18\n",
            "\n",
            " Tabuada do  3\n",
            "3  x  1  =  3\n",
            "3  x  2  =  6\n",
            "3  x  3  =  9\n",
            "3  x  4  =  12\n",
            "3  x  5  =  15\n",
            "3  x  6  =  18\n",
            "3  x  7  =  21\n",
            "3  x  8  =  24\n",
            "3  x  9  =  27\n",
            "\n",
            " Tabuada do  4\n",
            "4  x  1  =  4\n",
            "4  x  2  =  8\n",
            "4  x  3  =  12\n",
            "4  x  4  =  16\n",
            "4  x  5  =  20\n",
            "4  x  6  =  24\n",
            "4  x  7  =  28\n",
            "4  x  8  =  32\n",
            "4  x  9  =  36\n",
            "\n",
            " Tabuada do  5\n",
            "5  x  1  =  5\n",
            "5  x  2  =  10\n",
            "5  x  3  =  15\n",
            "5  x  4  =  20\n",
            "5  x  5  =  25\n",
            "5  x  6  =  30\n",
            "5  x  7  =  35\n",
            "5  x  8  =  40\n",
            "5  x  9  =  45\n",
            "\n",
            " Tabuada do  6\n",
            "6  x  1  =  6\n",
            "6  x  2  =  12\n",
            "6  x  3  =  18\n",
            "6  x  4  =  24\n",
            "6  x  5  =  30\n",
            "6  x  6  =  36\n",
            "6  x  7  =  42\n",
            "6  x  8  =  48\n",
            "6  x  9  =  54\n",
            "\n",
            " Tabuada do  7\n",
            "7  x  1  =  7\n",
            "7  x  2  =  14\n",
            "7  x  3  =  21\n",
            "7  x  4  =  28\n",
            "7  x  5  =  35\n",
            "7  x  6  =  42\n",
            "7  x  7  =  49\n",
            "7  x  8  =  56\n",
            "7  x  9  =  63\n",
            "\n",
            " Tabuada do  8\n",
            "8  x  1  =  8\n",
            "8  x  2  =  16\n",
            "8  x  3  =  24\n",
            "8  x  4  =  32\n",
            "8  x  5  =  40\n",
            "8  x  6  =  48\n",
            "8  x  7  =  56\n",
            "8  x  8  =  64\n",
            "8  x  9  =  72\n",
            "\n",
            " Tabuada do  9\n",
            "9  x  1  =  9\n",
            "9  x  2  =  18\n",
            "9  x  3  =  27\n",
            "9  x  4  =  36\n",
            "9  x  5  =  45\n",
            "9  x  6  =  54\n",
            "9  x  7  =  63\n",
            "9  x  8  =  72\n",
            "9  x  9  =  81\n"
          ],
          "name": "stdout"
        }
      ]
    },
    {
      "cell_type": "markdown",
      "metadata": {
        "id": "4QUH2X3cigIh",
        "colab_type": "text"
      },
      "source": [
        "\n",
        "Desafio 2)​ Faça um programa que calcule o fatorial de um número inteiro fornecido pelo usuário. Ex.: 5!=5.4.3.2.1=120. A saída deve ser conforme o exemplo abaixo:"
      ]
    },
    {
      "cell_type": "markdown",
      "metadata": {
        "id": "reJqfVcoigmD",
        "colab_type": "text"
      },
      "source": [
        "*Podemos resolver esse problema com um laco...*"
      ]
    },
    {
      "cell_type": "code",
      "metadata": {
        "id": "TKsU6eHdimz0",
        "colab_type": "code",
        "outputId": "c1a6eb90-1850-4099-ec4d-cfface0dcee3",
        "colab": {
          "base_uri": "https://localhost:8080/",
          "height": 34
        }
      },
      "source": [
        "def fatorial(n):\n",
        "  f = 1\n",
        "  for i in range(1, n+1, 1):\n",
        "    f = f * i\n",
        "  return f\n",
        "\n",
        "fat_5 = fatorial(5)\n",
        "print('5! =',fat_5)"
      ],
      "execution_count": 0,
      "outputs": [
        {
          "output_type": "stream",
          "text": [
            "5! = 120\n"
          ],
          "name": "stdout"
        }
      ]
    },
    {
      "cell_type": "markdown",
      "metadata": {
        "id": "AuszEZs1jKTE",
        "colab_type": "text"
      },
      "source": [
        "*Outra opcao mais elegante eh criar um funcao recursiva, ou seja, uma funcao que chama ela mesma*"
      ]
    },
    {
      "cell_type": "code",
      "metadata": {
        "id": "7dejsiYQjR5H",
        "colab_type": "code",
        "outputId": "92b11ca1-4601-4846-e80e-f4fd34bf7ae3",
        "colab": {
          "base_uri": "https://localhost:8080/",
          "height": 34
        }
      },
      "source": [
        "def fat(n):\n",
        "  if (n==0):\n",
        "    return 1\n",
        "  else:\n",
        "    return n * fat(n-1)\n",
        "\n",
        "fatt_5 = fat(5)\n",
        "print('5! =',fatt_5)"
      ],
      "execution_count": 0,
      "outputs": [
        {
          "output_type": "stream",
          "text": [
            "5! = 120\n"
          ],
          "name": "stdout"
        }
      ]
    },
    {
      "cell_type": "markdown",
      "metadata": {
        "id": "qVjjxY-d_JaJ",
        "colab_type": "text"
      },
      "source": [
        "Desafio 3) Python eh uma das poucas, linguagens que permite receber uma funcao como parametro. Assim gostaria de criar um Calculadora que recebe a operacao a ser realizada, exemplo Soma, junto com os parametros da operacao matematica. "
      ]
    },
    {
      "cell_type": "code",
      "metadata": {
        "id": "GChDy3rI_awc",
        "colab_type": "code",
        "outputId": "e780e455-123b-4f07-e1c9-0c95eb43f890",
        "colab": {
          "base_uri": "https://localhost:8080/",
          "height": 34
        }
      },
      "source": [
        "def soma(x,y):\n",
        "  s = x+y\n",
        "  return s\n",
        "\n",
        "def calculadora(f, x, y):\n",
        "  r = f(x,y)\n",
        "  return r \n",
        "\n",
        "um_mais_dois = calculadora( soma , 1, 2)\n",
        "print(um_mais_dois)"
      ],
      "execution_count": 0,
      "outputs": [
        {
          "output_type": "stream",
          "text": [
            "3\n"
          ],
          "name": "stdout"
        }
      ]
    }
  ]
}