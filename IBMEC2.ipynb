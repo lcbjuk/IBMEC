{
  "nbformat": 4,
  "nbformat_minor": 0,
  "metadata": {
    "colab": {
      "name": "IBMEC2.ipynb",
      "provenance": [],
      "authorship_tag": "ABX9TyN3ASpzYiwakQQjl9rZQYDE",
      "include_colab_link": true
    },
    "kernelspec": {
      "name": "python3",
      "display_name": "Python 3"
    }
  },
  "cells": [
    {
      "cell_type": "markdown",
      "metadata": {
        "id": "view-in-github",
        "colab_type": "text"
      },
      "source": [
        "<a href=\"https://colab.research.google.com/github/lcbjuk/IBMEC/blob/master/IBMEC2.ipynb\" target=\"_parent\"><img src=\"https://colab.research.google.com/assets/colab-badge.svg\" alt=\"Open In Colab\"/></a>"
      ]
    },
    {
      "cell_type": "markdown",
      "metadata": {
        "id": "Sm9kJSclm_eg",
        "colab_type": "text"
      },
      "source": [
        "**Introducao ao Python**\n"
      ]
    },
    {
      "cell_type": "code",
      "metadata": {
        "id": "8CUAS82om_q3",
        "colab_type": "code",
        "colab": {
          "base_uri": "https://localhost:8080/",
          "height": 34
        },
        "outputId": "0876a977-35c2-4a6b-fa32-8ee2dfb44f8a"
      },
      "source": [
        "print('ola mundo')"
      ],
      "execution_count": 2,
      "outputs": [
        {
          "output_type": "stream",
          "text": [
            "ola mundo\n"
          ],
          "name": "stdout"
        }
      ]
    },
    {
      "cell_type": "code",
      "metadata": {
        "id": "rKpXJdcVnLty",
        "colab_type": "code",
        "colab": {
          "base_uri": "https://localhost:8080/",
          "height": 34
        },
        "outputId": "af424b5b-0a71-4f1a-a051-47eb23a65d2e"
      },
      "source": [
        "x=1\n",
        "y=2\n",
        "s=x+y \n",
        "s\n"
      ],
      "execution_count": 3,
      "outputs": [
        {
          "output_type": "execute_result",
          "data": {
            "text/plain": [
              "3"
            ]
          },
          "metadata": {
            "tags": []
          },
          "execution_count": 3
        }
      ]
    },
    {
      "cell_type": "code",
      "metadata": {
        "id": "4c8L7irbnNkl",
        "colab_type": "code",
        "colab": {
          "base_uri": "https://localhost:8080/",
          "height": 34
        },
        "outputId": "b1f2f9cb-cc6d-4d3e-bbc3-0103be5de348"
      },
      "source": [
        "def soma(x,y):\n",
        "  s = x+y\n",
        "  return s\n",
        "\n",
        "r = soma(1,2)\n",
        "print(r)"
      ],
      "execution_count": 4,
      "outputs": [
        {
          "output_type": "stream",
          "text": [
            "3\n"
          ],
          "name": "stdout"
        }
      ]
    },
    {
      "cell_type": "code",
      "metadata": {
        "id": "DQW_fnhqnNmt",
        "colab_type": "code",
        "colab": {
          "base_uri": "https://localhost:8080/",
          "height": 34
        },
        "outputId": "ad76f3fb-9210-4a73-9f59-bf8cbc596964"
      },
      "source": [
        "\n",
        "def aprovacao(nota, freq):\n",
        "  if(nota>=7 and freq>=0.75):\n",
        "    aprov = 'aprovado'\n",
        "  else: \n",
        "    aprov = 'reprovado'\n",
        "  return aprov\n",
        "\n",
        "r = aprovacao(8,0.9)\n",
        "r"
      ],
      "execution_count": 5,
      "outputs": [
        {
          "output_type": "execute_result",
          "data": {
            "text/plain": [
              "'aprovado'"
            ]
          },
          "metadata": {
            "tags": []
          },
          "execution_count": 5
        }
      ]
    },
    {
      "cell_type": "code",
      "metadata": {
        "id": "PionyYNsnNox",
        "colab_type": "code",
        "colab": {
          "base_uri": "https://localhost:8080/",
          "height": 34
        },
        "outputId": "58177942-ff77-4124-9a8e-054483144930"
      },
      "source": [
        "def media_turma():\n",
        "  alunos = [5,5,6,6,7,7,8,8,9,9]\n",
        "  soma = 0\n",
        "  for i in range(0,10,1):\n",
        "    soma = soma + alunos[i]\n",
        "  return soma/10\n",
        "\n",
        "med = media_turma()\n",
        "med\n",
        "\n",
        "def calculadora(f,x,y):\n",
        "  return f(x,y)\n",
        "\n",
        "r = calculadora(soma,1,2)\n",
        "r"
      ],
      "execution_count": 6,
      "outputs": [
        {
          "output_type": "execute_result",
          "data": {
            "text/plain": [
              "3"
            ]
          },
          "metadata": {
            "tags": []
          },
          "execution_count": 6
        }
      ]
    },
    {
      "cell_type": "markdown",
      "metadata": {
        "id": "tmosVvD1n1Nm",
        "colab_type": "text"
      },
      "source": [
        "**[Exercicios] Intro Python**"
      ]
    },
    {
      "cell_type": "code",
      "metadata": {
        "id": "vRFlKdEunNq4",
        "colab_type": "code",
        "colab": {
          "base_uri": "https://localhost:8080/",
          "height": 34
        },
        "outputId": "dcf2a5b9-c936-440d-d30c-aa5773382f01"
      },
      "source": [
        "def nota_final(ap1,ap2,ap3):\n",
        "  return ap1*0.4 + ap2*0.4 + ap3 *0.2\n",
        "\n",
        "nota_final(10,9,8)"
      ],
      "execution_count": 7,
      "outputs": [
        {
          "output_type": "execute_result",
          "data": {
            "text/plain": [
              "9.2"
            ]
          },
          "metadata": {
            "tags": []
          },
          "execution_count": 7
        }
      ]
    },
    {
      "cell_type": "code",
      "metadata": {
        "id": "zac3zJY5nNsx",
        "colab_type": "code",
        "colab": {
          "base_uri": "https://localhost:8080/",
          "height": 34
        },
        "outputId": "0ee61680-2ec3-4b65-8e40-e561f535794f"
      },
      "source": [
        "def nota_conceito(nota):\n",
        "  if(nota>=9):\n",
        "    conceito = 'A'\n",
        "  elif(nota<9 and nota>=7):\n",
        "    conceito = 'B'\n",
        "  elif(nota<7 and nota>=5):\n",
        "    conceito = 'D'\n",
        "  else:\n",
        "    conceito = 'D'\n",
        "  return conceito\n",
        "\n",
        "nc = nota_conceito(9.5)\n",
        "nc\n"
      ],
      "execution_count": 8,
      "outputs": [
        {
          "output_type": "execute_result",
          "data": {
            "text/plain": [
              "'A'"
            ]
          },
          "metadata": {
            "tags": []
          },
          "execution_count": 8
        }
      ]
    },
    {
      "cell_type": "code",
      "metadata": {
        "id": "vY64abjxnNuy",
        "colab_type": "code",
        "colab": {
          "base_uri": "https://localhost:8080/",
          "height": 34
        },
        "outputId": "5d949fc3-7379-4d08-8c0b-23a7b6545593"
      },
      "source": [
        "def maior_nota(notas):\n",
        "  maior = 0\n",
        "  for i in range(0,len(notas),1):\n",
        "    if(notas[i] > maior):\n",
        "      maior = notas[i]\n",
        "  return maior\n",
        "\n",
        "notas = [7,6,9,9,8,8,10,5,6,7]\n",
        "m = maior_nota(notas)\n",
        "m"
      ],
      "execution_count": 9,
      "outputs": [
        {
          "output_type": "execute_result",
          "data": {
            "text/plain": [
              "10"
            ]
          },
          "metadata": {
            "tags": []
          },
          "execution_count": 9
        }
      ]
    },
    {
      "cell_type": "code",
      "metadata": {
        "id": "VmNj96VbnNw1",
        "colab_type": "code",
        "colab": {
          "base_uri": "https://localhost:8080/",
          "height": 68
        },
        "outputId": "2b8e7ad0-0c77-4594-a6c8-b8a7c1615074"
      },
      "source": [
        "# arredondei alguns numeros do enunciado original...\n",
        "def IRPF(salario):\n",
        "  if (salario <= 1500):\n",
        "    imposto = 0\n",
        "  elif(salario>1500 and salario<= 2246):\n",
        "    imposto = salario * 0.075 - 112\n",
        "  elif(salario>2246 and salario<= 2295):\n",
        "    imposto = salario * 0.15 - 280\n",
        "  elif(salario>2295 and salario<= 3745):\n",
        "    imposto = salario * 0.225 - 505\n",
        "  else:\n",
        "    imposto = salario * 0.275 - 692\n",
        "  return imposto\n",
        "\n",
        "print(IRPF(1050))\n",
        "print(IRPF(3500))\n",
        "print(IRPF(9000))"
      ],
      "execution_count": 10,
      "outputs": [
        {
          "output_type": "stream",
          "text": [
            "0\n",
            "282.5\n",
            "1783.0\n"
          ],
          "name": "stdout"
        }
      ]
    }
  ]
}