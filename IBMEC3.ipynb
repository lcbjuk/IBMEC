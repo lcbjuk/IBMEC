{
  "nbformat": 4,
  "nbformat_minor": 0,
  "metadata": {
    "colab": {
      "name": "IBMEC3.ipynb",
      "provenance": [],
      "authorship_tag": "ABX9TyPc4hcYpvdX3ZvKmX6sz8r6",
      "include_colab_link": true
    },
    "kernelspec": {
      "name": "python3",
      "display_name": "Python 3"
    }
  },
  "cells": [
    {
      "cell_type": "markdown",
      "metadata": {
        "id": "view-in-github",
        "colab_type": "text"
      },
      "source": [
        "<a href=\"https://colab.research.google.com/github/lcbjuk/IBMEC/blob/master/IBMEC3.ipynb\" target=\"_parent\"><img src=\"https://colab.research.google.com/assets/colab-badge.svg\" alt=\"Open In Colab\"/></a>"
      ]
    },
    {
      "cell_type": "markdown",
      "metadata": {
        "id": "CSdjT9RBnVco",
        "colab_type": "text"
      },
      "source": [
        "**Analise de Dados**\n"
      ]
    },
    {
      "cell_type": "code",
      "metadata": {
        "id": "_RJAa_i5niye",
        "colab_type": "code",
        "colab": {
          "base_uri": "https://localhost:8080/",
          "height": 310
        },
        "outputId": "47edfaaa-025b-4a1f-ed05-c51d1571fc3d"
      },
      "source": [
        "from google.colab import drive\n",
        "#drive.mount('/content/drive')\n",
        "\n",
        "import pandas as pd \n",
        "notas_turma = pd.read_csv('https://raw.githubusercontent.com/lcbjuk/ML/master/dados/notas_turma%20-%20final.csv')\n",
        "notas_turma\n",
        "\n",
        "notas_turma['Conceito']\n",
        "\n",
        "notas_turma.Conceito\n",
        "\n",
        "nota_final = notas_turma['AP1'] * 0.4 + notas_turma['AP2'] * 0.4 + notas_turma['AP3'] * 0.2\n",
        "nota_final\n",
        "\n",
        "notas_por_curso = notas_turma.groupby('Curso').mean()['Nota']\n",
        "notas_por_curso\n",
        "\n",
        "notas_por_curso.plot.bar()\n",
        "\n",
        "notas_por_curso.plot(kind='bar')\n",
        "\n",
        "import matplotlib.pyplot as plt\n",
        "plt.bar(notas_por_curso.index, notas_por_curso.values)\n",
        "\n",
        "import seaborn as sns\n",
        "sns.barplot (notas_por_curso.index , notas_por_curso.values)\n"
      ],
      "execution_count": 1,
      "outputs": [
        {
          "output_type": "execute_result",
          "data": {
            "text/plain": [
              "<matplotlib.axes._subplots.AxesSubplot at 0x7fa5ad463358>"
            ]
          },
          "metadata": {
            "tags": []
          },
          "execution_count": 1
        },
        {
          "output_type": "display_data",
          "data": {
            "image/png": "[encoded data removed]",
            "text/plain": [
              "<Figure size 432x288 with 1 Axes>"
            ]
          },
          "metadata": {
            "tags": []
          }
        }
      ]
    },
    {
      "cell_type": "markdown",
      "metadata": {
        "id": "_R0pzU9h3uFR",
        "colab_type": "text"
      },
      "source": [
        "**[Exercicios] Analise de Dados**\n",
        "\n"
      ]
    },
    {
      "cell_type": "code",
      "metadata": {
        "id": "Xl_tnD5A3uTq",
        "colab_type": "code",
        "colab": {
          "base_uri": "https://localhost:8080/",
          "height": 297
        },
        "outputId": "259fbd0d-d9c7-4407-db57-380716fc5650"
      },
      "source": [
        " \n",
        "\n",
        "import pandas as pd \n",
        "pedidos = pd.read_csv('https://raw.githubusercontent.com/lcbjuk/ML/master/dados/pedidos%20-%20qtd.csv')\n",
        "pedidos\n",
        "\n",
        "pedidos_por_depto = pedidos.groupby('Depto').sum()['Quantidade']\n",
        "sns.barplot(pedidos_por_depto.index, pedidos_por_depto.values)\n",
        "\n",
        "pedidos_por_produto = pedidos.groupby('Produto').sum()['Quantidade']\n",
        "sns.barplot(pedidos_por_produto.index, pedidos_por_produto.values)"
      ],
      "execution_count": 2,
      "outputs": [
        {
          "output_type": "execute_result",
          "data": {
            "text/plain": [
              "<matplotlib.axes._subplots.AxesSubplot at 0x7fa5a2a18048>"
            ]
          },
          "metadata": {
            "tags": []
          },
          "execution_count": 2
        },
        {
          "output_type": "display_data",
          "data": {
            "image/png": "[encoded data removed]",
            "text/plain": [
              "<Figure size 432x288 with 1 Axes>"
            ]
          },
          "metadata": {
            "tags": []
          }
        }
      ]
    }
  ]
}