{
  "nbformat": 4,
  "nbformat_minor": 0,
  "metadata": {
    "colab": {
      "name": "IBMEC5.ipynb",
      "provenance": [],
      "authorship_tag": "ABX9TyMSUJIrHPeovhvy1GzTIgtL",
      "include_colab_link": true
    },
    "kernelspec": {
      "name": "python3",
      "display_name": "Python 3"
    }
  },
  "cells": [
    {
      "cell_type": "markdown",
      "metadata": {
        "id": "view-in-github",
        "colab_type": "text"
      },
      "source": [
        "<a href=\"https://colab.research.google.com/github/lcbjuk/IBMEC/blob/master/IBMEC5.ipynb\" target=\"_parent\"><img src=\"https://colab.research.google.com/assets/colab-badge.svg\" alt=\"Open In Colab\"/></a>"
      ]
    },
    {
      "cell_type": "markdown",
      "metadata": {
        "id": "FuTN6S3A6ZL6",
        "colab_type": "text"
      },
      "source": [
        "**Regressao Linear**\n",
        "\n"
      ]
    },
    {
      "cell_type": "code",
      "metadata": {
        "id": "CoJZsQW_6ZUm",
        "colab_type": "code",
        "colab": {
          "base_uri": "https://localhost:8080/",
          "height": 85
        },
        "outputId": "169b77e8-da9a-4407-9557-2ff99b98cec4"
      },
      "source": [
        "import pandas as pd\n",
        "nts = pd.read_csv('https://raw.githubusercontent.com/lcbjuk/ML/master/dados/notas%20-%20ok.csv')\n",
        "nts\n",
        "\n",
        "from sklearn.linear_model import LinearRegression\n",
        "reglin = LinearRegression()\n",
        "reglin.fit(nts[['AP1','AP2']] , nts['AP3'])\n",
        "print(reglin.coef_, reglin.intercept_)\n",
        "\n",
        "def prever_ap3(ap1, ap2):\n",
        "  ap3 = ap1 * -0.366 + ap2 * 1.383 - 0.825\n",
        "  return ap3\n",
        "\n",
        "print(prever_ap3(8,8))\n",
        "print(prever_ap3(2,4))\n",
        "print(prever_ap3(3.5,8))"
      ],
      "execution_count": 10,
      "outputs": [
        {
          "output_type": "stream",
          "text": [
            "[-0.36608176  1.38338992] -0.8257714929014783\n",
            "7.310999999999999\n",
            "3.9749999999999996\n",
            "8.958\n"
          ],
          "name": "stdout"
        }
      ]
    },
    {
      "cell_type": "code",
      "metadata": {
        "id": "B_8LVUgA6kiB",
        "colab_type": "code",
        "colab": {
          "base_uri": "https://localhost:8080/",
          "height": 34
        },
        "outputId": "a74de434-8734-4daf-ea12-2fbeebfef78d"
      },
      "source": [
        "ap1_ap2_futuras = pd.DataFrame({\n",
        "    'AP1':[8,2,3.5],\n",
        "    'AP2':[8,4,8]\n",
        "})\n",
        "ap3_futuras = reglin.predict(ap1_ap2_futuras)\n",
        "ap3_futuras"
      ],
      "execution_count": 11,
      "outputs": [
        {
          "output_type": "execute_result",
          "data": {
            "text/plain": [
              "array([7.31269382, 3.97562468, 8.96006172])"
            ]
          },
          "metadata": {
            "tags": []
          },
          "execution_count": 11
        }
      ]
    },
    {
      "cell_type": "code",
      "metadata": {
        "id": "H-LRrhwR692G",
        "colab_type": "code",
        "colab": {
          "base_uri": "https://localhost:8080/",
          "height": 34
        },
        "outputId": "3c633f50-d34e-4739-d271-05037cebf661"
      },
      "source": [
        "\n",
        "r2 = reglin.score(nts[['AP1','AP2']] , nts['AP3'])\n",
        "r2"
      ],
      "execution_count": 12,
      "outputs": [
        {
          "output_type": "execute_result",
          "data": {
            "text/plain": [
              "0.9818896713333346"
            ]
          },
          "metadata": {
            "tags": []
          },
          "execution_count": 12
        }
      ]
    },
    {
      "cell_type": "code",
      "metadata": {
        "id": "Q71uACAF66zq",
        "colab_type": "code",
        "colab": {
          "base_uri": "https://localhost:8080/",
          "height": 34
        },
        "outputId": "244f5811-4617-45b4-e69c-8213e898e421"
      },
      "source": [
        "ap3_prev = reglin.predict(nts[['AP1','AP2']])\n",
        "\n",
        "from sklearn import metrics\n",
        "rr = metrics.r2_score(nts['AP3'] , ap3_prev)\n",
        "rr"
      ],
      "execution_count": 13,
      "outputs": [
        {
          "output_type": "execute_result",
          "data": {
            "text/plain": [
              "0.9818896713333346"
            ]
          },
          "metadata": {
            "tags": []
          },
          "execution_count": 13
        }
      ]
    },
    {
      "cell_type": "code",
      "metadata": {
        "id": "gUAhxTvU65L7",
        "colab_type": "code",
        "colab": {
          "base_uri": "https://localhost:8080/",
          "height": 34
        },
        "outputId": "291f68d0-a9f6-456e-b26b-532c8d29ee35"
      },
      "source": [
        "err_quad = metrics.mean_squared_error(nts['AP3'] , ap3_prev) \n",
        "err_quad\n",
        "\n",
        "import numpy as np\n",
        "err = np.sqrt(err_quad)\n",
        "err\n"
      ],
      "execution_count": 14,
      "outputs": [
        {
          "output_type": "execute_result",
          "data": {
            "text/plain": [
              "0.38145674290172166"
            ]
          },
          "metadata": {
            "tags": []
          },
          "execution_count": 14
        }
      ]
    },
    {
      "cell_type": "code",
      "metadata": {
        "id": "qq-jBvwS621X",
        "colab_type": "code",
        "colab": {
          "base_uri": "https://localhost:8080/",
          "height": 519
        },
        "outputId": "9eebbd5c-f3aa-42e1-8ff9-e9934dbfc64b"
      },
      "source": [
        "import statsmodels.api as sm\n",
        "\n",
        "nts[['AP1','AP2']]\n",
        "\n",
        "ap1_ap2 = sm.add_constant(nts[['AP1','AP2']])\n",
        "ap1_ap2\n",
        "\n",
        "rl = sm.OLS(nts['AP3'] , ap1_ap2).fit()\n",
        "rl.summary()\n"
      ],
      "execution_count": 15,
      "outputs": [
        {
          "output_type": "stream",
          "text": [
            "/usr/local/lib/python3.6/dist-packages/numpy/core/fromnumeric.py:2542: FutureWarning: Method .ptp is deprecated and will be removed in a future version. Use numpy.ptp instead.\n",
            "  return ptp(axis=axis, out=out, **kwargs)\n"
          ],
          "name": "stderr"
        },
        {
          "output_type": "execute_result",
          "data": {
            "text/html": [
              "<table class=\"simpletable\">\n",
              "<caption>OLS Regression Results</caption>\n",
              "<tr>\n",
              "  <th>Dep. Variable:</th>           <td>AP3</td>       <th>  R-squared:         </th> <td>   0.982</td>\n",
              "</tr>\n",
              "<tr>\n",
              "  <th>Model:</th>                   <td>OLS</td>       <th>  Adj. R-squared:    </th> <td>   0.981</td>\n",
              "</tr>\n",
              "<tr>\n",
              "  <th>Method:</th>             <td>Least Squares</td>  <th>  F-statistic:       </th> <td>   1003.</td>\n",
              "</tr>\n",
              "<tr>\n",
              "  <th>Date:</th>             <td>Fri, 20 Mar 2020</td> <th>  Prob (F-statistic):</th> <td>5.91e-33</td>\n",
              "</tr>\n",
              "<tr>\n",
              "  <th>Time:</th>                 <td>17:10:28</td>     <th>  Log-Likelihood:    </th> <td> -18.207</td>\n",
              "</tr>\n",
              "<tr>\n",
              "  <th>No. Observations:</th>      <td>    40</td>      <th>  AIC:               </th> <td>   42.41</td>\n",
              "</tr>\n",
              "<tr>\n",
              "  <th>Df Residuals:</th>          <td>    37</td>      <th>  BIC:               </th> <td>   47.48</td>\n",
              "</tr>\n",
              "<tr>\n",
              "  <th>Df Model:</th>              <td>     2</td>      <th>                     </th>     <td> </td>   \n",
              "</tr>\n",
              "<tr>\n",
              "  <th>Covariance Type:</th>      <td>nonrobust</td>    <th>                     </th>     <td> </td>   \n",
              "</tr>\n",
              "</table>\n",
              "<table class=\"simpletable\">\n",
              "<tr>\n",
              "    <td></td>       <th>coef</th>     <th>std err</th>      <th>t</th>      <th>P>|t|</th>  <th>[0.025</th>    <th>0.975]</th>  \n",
              "</tr>\n",
              "<tr>\n",
              "  <th>const</th> <td>   -0.8258</td> <td>    0.265</td> <td>   -3.111</td> <td> 0.004</td> <td>   -1.364</td> <td>   -0.288</td>\n",
              "</tr>\n",
              "<tr>\n",
              "  <th>AP1</th>   <td>   -0.3661</td> <td>    0.030</td> <td>  -12.318</td> <td> 0.000</td> <td>   -0.426</td> <td>   -0.306</td>\n",
              "</tr>\n",
              "<tr>\n",
              "  <th>AP2</th>   <td>    1.3834</td> <td>    0.031</td> <td>   44.788</td> <td> 0.000</td> <td>    1.321</td> <td>    1.446</td>\n",
              "</tr>\n",
              "</table>\n",
              "<table class=\"simpletable\">\n",
              "<tr>\n",
              "  <th>Omnibus:</th>       <td> 4.027</td> <th>  Durbin-Watson:     </th> <td>   0.680</td>\n",
              "</tr>\n",
              "<tr>\n",
              "  <th>Prob(Omnibus):</th> <td> 0.134</td> <th>  Jarque-Bera (JB):  </th> <td>   3.534</td>\n",
              "</tr>\n",
              "<tr>\n",
              "  <th>Skew:</th>          <td> 0.642</td> <th>  Prob(JB):          </th> <td>   0.171</td>\n",
              "</tr>\n",
              "<tr>\n",
              "  <th>Kurtosis:</th>      <td> 2.314</td> <th>  Cond. No.          </th> <td>    43.9</td>\n",
              "</tr>\n",
              "</table><br/><br/>Warnings:<br/>[1] Standard Errors assume that the covariance matrix of the errors is correctly specified."
            ],
            "text/plain": [
              "<class 'statsmodels.iolib.summary.Summary'>\n",
              "\"\"\"\n",
              "                            OLS Regression Results                            \n",
              "==============================================================================\n",
              "Dep. Variable:                    AP3   R-squared:                       0.982\n",
              "Model:                            OLS   Adj. R-squared:                  0.981\n",
              "Method:                 Least Squares   F-statistic:                     1003.\n",
              "Date:                Fri, 20 Mar 2020   Prob (F-statistic):           5.91e-33\n",
              "Time:                        17:10:28   Log-Likelihood:                -18.207\n",
              "No. Observations:                  40   AIC:                             42.41\n",
              "Df Residuals:                      37   BIC:                             47.48\n",
              "Df Model:                           2                                         \n",
              "Covariance Type:            nonrobust                                         \n",
              "==============================================================================\n",
              "                 coef    std err          t      P>|t|      [0.025      0.975]\n",
              "------------------------------------------------------------------------------\n",
              "const         -0.8258      0.265     -3.111      0.004      -1.364      -0.288\n",
              "AP1           -0.3661      0.030    -12.318      0.000      -0.426      -0.306\n",
              "AP2            1.3834      0.031     44.788      0.000       1.321       1.446\n",
              "==============================================================================\n",
              "Omnibus:                        4.027   Durbin-Watson:                   0.680\n",
              "Prob(Omnibus):                  0.134   Jarque-Bera (JB):                3.534\n",
              "Skew:                           0.642   Prob(JB):                        0.171\n",
              "Kurtosis:                       2.314   Cond. No.                         43.9\n",
              "==============================================================================\n",
              "\n",
              "Warnings:\n",
              "[1] Standard Errors assume that the covariance matrix of the errors is correctly specified.\n",
              "\"\"\""
            ]
          },
          "metadata": {
            "tags": []
          },
          "execution_count": 15
        }
      ]
    },
    {
      "cell_type": "code",
      "metadata": {
        "id": "3gCXY2WI6l51",
        "colab_type": "code",
        "colab": {
          "base_uri": "https://localhost:8080/",
          "height": 386
        },
        "outputId": "622a7733-b24d-4c9f-d832-362256a3f273"
      },
      "source": [
        "import seaborn as sns\n",
        "sns.lmplot('AP2' , 'AP3' , data=nts)\n"
      ],
      "execution_count": 16,
      "outputs": [
        {
          "output_type": "execute_result",
          "data": {
            "text/plain": [
              "<seaborn.axisgrid.FacetGrid at 0x7f4129f1e668>"
            ]
          },
          "metadata": {
            "tags": []
          },
          "execution_count": 16
        },
        {
          "output_type": "display_data",
          "data": {
            "image/png": "[encoded data removed]",
            "text/plain": [
              "<Figure size 360x360 with 1 Axes>"
            ]
          },
          "metadata": {
            "tags": []
          }
        }
      ]
    },
    {
      "cell_type": "code",
      "metadata": {
        "id": "THtQjtZ56mD6",
        "colab_type": "code",
        "colab": {
          "base_uri": "https://localhost:8080/",
          "height": 173
        },
        "outputId": "f717be9f-cbd5-4816-9d6c-b84a09b009d5"
      },
      "source": [
        "nts.corr()"
      ],
      "execution_count": 17,
      "outputs": [
        {
          "output_type": "execute_result",
          "data": {
            "text/html": [
              "<div>\n",
              "<style scoped>\n",
              "    .dataframe tbody tr th:only-of-type {\n",
              "        vertical-align: middle;\n",
              "    }\n",
              "\n",
              "    .dataframe tbody tr th {\n",
              "        vertical-align: top;\n",
              "    }\n",
              "\n",
              "    .dataframe thead th {\n",
              "        text-align: right;\n",
              "    }\n",
              "</style>\n",
              "<table border=\"1\" class=\"dataframe\">\n",
              "  <thead>\n",
              "    <tr style=\"text-align: right;\">\n",
              "      <th></th>\n",
              "      <th>AP1</th>\n",
              "      <th>AP2</th>\n",
              "      <th>AP3</th>\n",
              "      <th>Final</th>\n",
              "    </tr>\n",
              "  </thead>\n",
              "  <tbody>\n",
              "    <tr>\n",
              "      <th>AP1</th>\n",
              "      <td>1.000000</td>\n",
              "      <td>0.278632</td>\n",
              "      <td>0.003717</td>\n",
              "      <td>0.630113</td>\n",
              "    </tr>\n",
              "    <tr>\n",
              "      <th>AP2</th>\n",
              "      <td>0.278632</td>\n",
              "      <td>1.000000</td>\n",
              "      <td>0.952691</td>\n",
              "      <td>0.920175</td>\n",
              "    </tr>\n",
              "    <tr>\n",
              "      <th>AP3</th>\n",
              "      <td>0.003717</td>\n",
              "      <td>0.952691</td>\n",
              "      <td>1.000000</td>\n",
              "      <td>0.776387</td>\n",
              "    </tr>\n",
              "    <tr>\n",
              "      <th>Final</th>\n",
              "      <td>0.630113</td>\n",
              "      <td>0.920175</td>\n",
              "      <td>0.776387</td>\n",
              "      <td>1.000000</td>\n",
              "    </tr>\n",
              "  </tbody>\n",
              "</table>\n",
              "</div>"
            ],
            "text/plain": [
              "            AP1       AP2       AP3     Final\n",
              "AP1    1.000000  0.278632  0.003717  0.630113\n",
              "AP2    0.278632  1.000000  0.952691  0.920175\n",
              "AP3    0.003717  0.952691  1.000000  0.776387\n",
              "Final  0.630113  0.920175  0.776387  1.000000"
            ]
          },
          "metadata": {
            "tags": []
          },
          "execution_count": 17
        }
      ]
    },
    {
      "cell_type": "code",
      "metadata": {
        "id": "zMl4UN3p6mS3",
        "colab_type": "code",
        "colab": {
          "base_uri": "https://localhost:8080/",
          "height": 764
        },
        "outputId": "2df78b2b-5577-40ae-9eff-984b8f9b4b52"
      },
      "source": [
        "sns.pairplot(nts)\n"
      ],
      "execution_count": 18,
      "outputs": [
        {
          "output_type": "execute_result",
          "data": {
            "text/plain": [
              "<seaborn.axisgrid.PairGrid at 0x7f414109d438>"
            ]
          },
          "metadata": {
            "tags": []
          },
          "execution_count": 18
        },
        {
          "output_type": "display_data",
          "data": {
            "image/png": "[encoded data removed]",
            "text/plain": [
              "<Figure size 720x720 with 20 Axes>"
            ]
          },
          "metadata": {
            "tags": []
          }
        }
      ]
    },
    {
      "cell_type": "markdown",
      "metadata": {
        "id": "kzi2JgeE6nHI",
        "colab_type": "text"
      },
      "source": [
        "**[Exercicios] Regressao Linear**\n"
      ]
    },
    {
      "cell_type": "code",
      "metadata": {
        "id": "mVApWhQv6nPl",
        "colab_type": "code",
        "colab": {
          "base_uri": "https://localhost:8080/",
          "height": 420
        },
        "outputId": "32cb4a2b-6501-4ba6-c2a1-4fc0e0243457"
      },
      "source": [
        "import pandas as pd\n",
        "dados = pd.read_csv('https://raw.githubusercontent.com/lcbjuk/ML/master/dados/usd_ibov_20%20-%2020.csv')\n",
        "dados.head()\n",
        "\n",
        "import seaborn as sns\n",
        "sns.lmplot('bov','usd',data=dados)\n",
        "\n",
        "from sklearn.linear_model import LinearRegression\n",
        "\n",
        "rl = LinearRegression()\n",
        "\n",
        "rl.fit(dados[['bov']] , dados['usd'])\n",
        "print(rl.coef_,rl.intercept_)\n",
        "\n",
        "ibov_fut = pd.DataFrame({'ibov':[110,100,90,80,70,60]})\n",
        "rl.predict(ibov_fut)"
      ],
      "execution_count": 19,
      "outputs": [
        {
          "output_type": "stream",
          "text": [
            "[-0.01783154] 6.303900300544503\n"
          ],
          "name": "stdout"
        },
        {
          "output_type": "execute_result",
          "data": {
            "text/plain": [
              "array([4.34243043, 4.52074588, 4.69906132, 4.87737676, 5.0556922 ,\n",
              "       5.23400765])"
            ]
          },
          "metadata": {
            "tags": []
          },
          "execution_count": 19
        },
        {
          "output_type": "display_data",
          "data": {
            "image/png": "[encoded data removed]",
            "text/plain": [
              "<Figure size 360x360 with 1 Axes>"
            ]
          },
          "metadata": {
            "tags": []
          }
        }
      ]
    }
  ]
}