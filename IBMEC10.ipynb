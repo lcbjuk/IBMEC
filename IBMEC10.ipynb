{
  "nbformat": 4,
  "nbformat_minor": 0,
  "metadata": {
    "colab": {
      "name": "IBMEC10.ipynb",
      "provenance": [],
      "authorship_tag": "ABX9TyOQOLKHVurORVE3jNz5wo7K",
      "include_colab_link": true
    },
    "kernelspec": {
      "name": "python3",
      "display_name": "Python 3"
    }
  },
  "cells": [
    {
      "cell_type": "markdown",
      "metadata": {
        "id": "view-in-github",
        "colab_type": "text"
      },
      "source": [
        "<a href=\"https://colab.research.google.com/github/lcbjuk/IBMEC/blob/master/IBMEC10.ipynb\" target=\"_parent\"><img src=\"https://colab.research.google.com/assets/colab-badge.svg\" alt=\"Open In Colab\"/></a>"
      ]
    },
    {
      "cell_type": "code",
      "metadata": {
        "id": "ve3e0uqJeCrT",
        "colab_type": "code",
        "colab": {}
      },
      "source": [
        "from google.colab import drive\n",
        "#drive.mount('/content/drive/')"
      ],
      "execution_count": 0,
      "outputs": []
    },
    {
      "cell_type": "markdown",
      "metadata": {
        "id": "st0CxG9oeE24",
        "colab_type": "text"
      },
      "source": [
        "**KMeans**"
      ]
    },
    {
      "cell_type": "code",
      "metadata": {
        "id": "CuAiKG3reFi2",
        "colab_type": "code",
        "outputId": "69d2df53-7fec-4200-d2bc-fee26eb58954",
        "colab": {
          "base_uri": "https://localhost:8080/",
          "height": 432
        }
      },
      "source": [
        "import pandas as pd\n",
        "\n",
        "sal_poup=pd.read_csv('https://raw.githubusercontent.com/lcbjuk/ML/master/dados/salario_conta%20-%20ok.csv')\n",
        "print(sal_poup)\n",
        "\n",
        "from sklearn.cluster import KMeans\n",
        "k = KMeans(n_clusters=5)\n",
        "k.fit(sal_poup)\n"
      ],
      "execution_count": 0,
      "outputs": [
        {
          "output_type": "stream",
          "text": [
            "    salario  saldo\n",
            "0      2919    239\n",
            "1      4677   1565\n",
            "2      2229   1855\n",
            "3      4527    466\n",
            "4      1751    357\n",
            "5      2337  -1101\n",
            "6      2196  -1416\n",
            "7      2562    523\n",
            "8      4865  -1866\n",
            "9      2507   1998\n",
            "10     9206   4063\n",
            "11     8087   1935\n",
            "12    17125  18092\n",
            "13    17844  17624\n",
            "14     5317   2610\n",
            "15    15503   5117\n",
            "16    14233  18879\n",
            "17    10091  13780\n",
            "18    15485   2963\n",
            "19    10257  10975\n"
          ],
          "name": "stdout"
        },
        {
          "output_type": "execute_result",
          "data": {
            "text/plain": [
              "KMeans(algorithm='auto', copy_x=True, init='k-means++', max_iter=300,\n",
              "       n_clusters=5, n_init=10, n_jobs=None, precompute_distances='auto',\n",
              "       random_state=None, tol=0.0001, verbose=0)"
            ]
          },
          "metadata": {
            "tags": []
          },
          "execution_count": 4
        }
      ]
    },
    {
      "cell_type": "code",
      "metadata": {
        "id": "GiKTKmoxfsqJ",
        "colab_type": "code",
        "outputId": "bbe538af-2dcc-4aec-a410-4ed132423576",
        "colab": {
          "base_uri": "https://localhost:8080/",
          "height": 296
        }
      },
      "source": [
        "import seaborn as sns\n",
        "\n",
        "sns.scatterplot(sal_poup['salario'],sal_poup['saldo'],hue=k.labels_,palette=sns.color_palette('Set1',5))"
      ],
      "execution_count": 0,
      "outputs": [
        {
          "output_type": "execute_result",
          "data": {
            "text/plain": [
              "<matplotlib.axes._subplots.AxesSubplot at 0x7f012cfc1438>"
            ]
          },
          "metadata": {
            "tags": []
          },
          "execution_count": 6
        },
        {
          "output_type": "display_data",
          "data": {
            "image/png": "[encoded data removed]",
            "text/plain": [
              "<Figure size 432x288 with 1 Axes>"
            ]
          },
          "metadata": {
            "tags": []
          }
        }
      ]
    },
    {
      "cell_type": "markdown",
      "metadata": {
        "id": "AzufzbixeFur",
        "colab_type": "text"
      },
      "source": [
        "**Exercicio - KMeans**"
      ]
    },
    {
      "cell_type": "code",
      "metadata": {
        "id": "ztwLKgxceF3Y",
        "colab_type": "code",
        "outputId": "290a8b90-b991-4061-9865-dda25acab183",
        "colab": {
          "base_uri": "https://localhost:8080/",
          "height": 538
        }
      },
      "source": [
        "import pandas as pd\n",
        "from sklearn.cluster import KMeans\n",
        "import seaborn as sns\n",
        "\n",
        "credito = pd.read_csv('https://raw.githubusercontent.com/lcbjuk/ML/master/dados/RiscoCredito%20-%20sem_classe.csv')\n",
        "\n",
        "print(cred) \n",
        "k = KMeans(n_clusters = 2)\n",
        "k.fit(cred)\n",
        "\n",
        "\n",
        "sns.scatterplot(credito['Profissao'], credito['Renda'],hue=k.labels_) "
      ],
      "execution_count": 0,
      "outputs": [
        {
          "output_type": "stream",
          "text": [
            "    Genero  GrauEscolaridade  Profissao  Renda\n",
            "0        1                 4          1    1.4\n",
            "1        2                 7          9    2.6\n",
            "2        1                 7          9    5.8\n",
            "3        1                 7          9    4.7\n",
            "4        1                 7          9    3.9\n",
            "..     ...               ...        ...    ...\n",
            "95       1                 4          1    2.9\n",
            "96       1                 4          1    1.4\n",
            "97       2                 7          8    2.6\n",
            "98       1                 7          8    5.8\n",
            "99       1                 7          8    4.7\n",
            "\n",
            "[100 rows x 4 columns]\n"
          ],
          "name": "stdout"
        },
        {
          "output_type": "execute_result",
          "data": {
            "text/plain": [
              "<matplotlib.axes._subplots.AxesSubplot at 0x7f0128a78f60>"
            ]
          },
          "metadata": {
            "tags": []
          },
          "execution_count": 8
        },
        {
          "output_type": "display_data",
          "data": {
            "image/png": "[encoded data removed]",
            "text/plain": [
              "<Figure size 432x288 with 1 Axes>"
            ]
          },
          "metadata": {
            "tags": []
          }
        }
      ]
    }
  ]
}